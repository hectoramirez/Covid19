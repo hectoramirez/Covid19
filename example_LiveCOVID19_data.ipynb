{
 "cells": [
  {
   "cell_type": "markdown",
   "metadata": {
    "colab_type": "text",
    "id": "51eeqGQsWP11"
   },
   "source": [
    " <div style=\"text-align: center;\">\n",
    "    <img src=\"https://cdn.pixabay.com/photo/2020/03/14/12/56/corona-4930541_1280.jpg\" style=\"max-width: 600px; width:100%;\" />\n",
    "</div>\n",
    "\n",
    "# COVID19 data in Spain and the world\n",
    "\n",
    "by Héctor Ramírez\n",
    "<hr>"
   ]
  },
  {
   "cell_type": "code",
   "execution_count": null,
   "metadata": {},
   "outputs": [],
   "source": [
    "import numpy as np\n",
    "import pandas as pd\n",
    "import matplotlib.pyplot as plt\n",
    "import plotly.express as px\n",
    "%matplotlib inline"
   ]
  },
  {
   "cell_type": "markdown",
   "metadata": {},
   "source": [
    "## World data\n",
    "\n",
    "We load live COVID19 data from the [GitHub data repository](https://github.com/CSSEGISandData/COVID-19) for the 2019 Novel Coronavirus Visual Dashboard by the Johns Hopkins University Center for Systems Science and Engineering (JHU CSSE).\n",
    "<hr>"
   ]
  },
  {
   "cell_type": "code",
   "execution_count": null,
   "metadata": {
    "colab": {},
    "colab_type": "code",
    "id": "aoiqHj84WP1_"
   },
   "outputs": [],
   "source": [
    "WORLD_CONFIRMED_URL = 'https://raw.githubusercontent.com/CSSEGISandData/COVID-19/master/csse_covid_19_data/csse_covid_19_time_series/time_series_covid19_confirmed_global.csv'\n",
    "WORLD_DEATHS_URL = 'https://raw.githubusercontent.com/CSSEGISandData/COVID-19/master/csse_covid_19_data/csse_covid_19_time_series/time_series_covid19_deaths_global.csv'\n",
    "WORLD_RECOVERED_URL = 'https://raw.githubusercontent.com/CSSEGISandData/COVID-19/master/csse_covid_19_data/csse_covid_19_time_series/time_series_covid19_recovered_global.csv'\n",
    "\n",
    "world_confirmed = pd.read_csv(COVID_CONFIRMED_URL)\n",
    "world_deaths = pd.read_csv(COVID_DEATHS_URL)\n",
    "world_recovered = pd.read_csv(COVID_RECOVERED_URL)\n",
    "\n",
    "sets = [world_confirmed, world_deaths, world_recovered]\n",
    "\n",
    "# yesterday's date\n",
    "yesterday = covid_confirmed.columns[-1]\n",
    "print('\\nYesterday was ' + yesterday + '.')"
   ]
  },
  {
   "cell_type": "markdown",
   "metadata": {
    "colab_type": "text",
    "id": "-7gMU7GZWP2Q"
   },
   "source": [
    "<hr>\n",
    "\n",
    "### Cleaning the Data\n",
    "\n",
    "The following code replaces the column name _Country/Region_ with just _Country_ and _Province/State_ with _State_. The _Province/State_ column had a bunch of NaN values which we will replace with blanks. "
   ]
  },
  {
   "cell_type": "code",
   "execution_count": null,
   "metadata": {},
   "outputs": [],
   "source": [
    "world_confirmed.rename(columns={'Country/Region':'Country', 'Province/State':'State'}, inplace=True)\n",
    "world_deaths.rename(columns={'Country/Region':'Country', 'Province/State':'State'}, inplace=True)\n",
    "world_recovered.rename(columns={'Country/Region':'Country', 'Province/State':'State'}, inplace=True)\n",
    "world_confirmed.head()"
   ]
  },
  {
   "cell_type": "code",
   "execution_count": null,
   "metadata": {},
   "outputs": [],
   "source": [
    "for i in range(3):\n",
    "    sets[i].rename(columns={'Country/Region':'Country', 'Province/State':'State'}, inplace=True)\n",
    "    sets[i][['State']] = sets[i][['State']].fillna('')\n",
    "    sets[i].fillna(0, inplace=True)\n",
    "world_deaths.head()"
   ]
  },
  {
   "cell_type": "code",
   "execution_count": null,
   "metadata": {
    "colab": {},
    "colab_type": "code",
    "id": "s-cUiFSCWP2W"
   },
   "outputs": [],
   "source": [
    "covid_confirmed[['State']] = covid_confirmed[['State']].fillna('')\n",
    "covid_confirmed.fillna(0, inplace=True)\n",
    "\n",
    "covid_deaths[['State']] = covid_deaths[['State']].fillna('')\n",
    "covid_deaths.fillna(0, inplace=True)\n",
    "\n",
    "covid_recovered[['State']] = covid_recovered[['State']].fillna('')\n",
    "covid_recovered.fillna(0, inplace=True)\n",
    "covid_deaths.head()"
   ]
  },
  {
   "cell_type": "markdown",
   "metadata": {
    "colab_type": "text",
    "id": "9RnZUdwY1VVt"
   },
   "source": [
    "<hr>\n",
    "\n",
    "## Step 3: Data Access "
   ]
  },
  {
   "cell_type": "markdown",
   "metadata": {
    "colab_type": "text",
    "id": "8KNIANfH1gma"
   },
   "source": [
    "You can pull out a certain column with .columname (if it's one word) or ['column name'] for multiword columns from the dataframe. And you can pull out a certain row using ==. For example, here we've pulled out the row where the country equals China."
   ]
  },
  {
   "cell_type": "code",
   "execution_count": null,
   "metadata": {
    "colab": {},
    "colab_type": "code",
    "id": "WLUt0myjcsHe"
   },
   "outputs": [],
   "source": [
    "covid_confirmed.Country"
   ]
  },
  {
   "cell_type": "code",
   "execution_count": null,
   "metadata": {
    "colab": {},
    "colab_type": "code",
    "id": "wTQVWU93xstY"
   },
   "outputs": [],
   "source": [
    "covid_confirmed[covid_confirmed.Country == 'China']"
   ]
  },
  {
   "cell_type": "code",
   "execution_count": null,
   "metadata": {
    "colab": {},
    "colab_type": "code",
    "id": "D0l2MTHq2Cl-"
   },
   "outputs": [],
   "source": [
    "covid_confirmed[['4/2/20', 'Country', \n",
    "                 'State']].sort_values(by=['4/2/20'], ascending=False).reset_index(drop=True).head(10)"
   ]
  },
  {
   "cell_type": "markdown",
   "metadata": {
    "colab_type": "text",
    "id": "LalXZF6V36O5"
   },
   "source": [
    "Let's add up the total cases in Chinese states using the sum() function."
   ]
  },
  {
   "cell_type": "code",
   "execution_count": null,
   "metadata": {
    "colab": {},
    "colab_type": "code",
    "id": "7auBBh4S4CSJ"
   },
   "outputs": [],
   "source": [
    "covid_confirmed[covid_confirmed.Country == 'China'].sum()"
   ]
  },
  {
   "cell_type": "markdown",
   "metadata": {
    "colab_type": "text",
    "id": "G5nglz-651Lb"
   },
   "source": [
    "We can calculate all the sums and group them by country with the following code which also shows the results for 1 date. <br>\n",
    "<font color=red>Change it to yesterday's date.</font>"
   ]
  },
  {
   "cell_type": "code",
   "execution_count": null,
   "metadata": {
    "colab": {},
    "colab_type": "code",
    "id": "CNtcQWuy4cj0"
   },
   "outputs": [],
   "source": [
    "confirmed_by_country = covid_confirmed.groupby('Country').sum()\n",
    "confirmed_yesterday_by_country = confirmed_by_country['4/2/20']\n",
    "confirmed_yesterday_by_country.sort_values(ascending=False).head(10)"
   ]
  },
  {
   "cell_type": "markdown",
   "metadata": {
    "colab_type": "text",
    "id": "L0nHGSicdqYo"
   },
   "source": [
    "<font color=red>Do the same (compute the sums using groupby) for the covid_deaths data and save it in the variable deaths_yesterday_by_country.</font> "
   ]
  },
  {
   "cell_type": "code",
   "execution_count": null,
   "metadata": {
    "colab": {},
    "colab_type": "code",
    "id": "joKdZpcSeL-k"
   },
   "outputs": [],
   "source": [
    "deaths_by_country = covid_deaths.groupby('Country').sum()\n",
    "deaths_yesterday_by_country = deaths_by_country['4/2/20']\n",
    "deaths_yesterday_by_country.sort_values(ascending=False).head(10)"
   ]
  },
  {
   "cell_type": "markdown",
   "metadata": {
    "colab_type": "text",
    "id": "y9b1o5X85WO8"
   },
   "source": [
    "Here are the top 5 countries with the most cases. \n",
    "<font color=red>Change it to yesterday's date and to show the top 10.</font>"
   ]
  },
  {
   "cell_type": "markdown",
   "metadata": {
    "colab_type": "text",
    "id": "CdJDarL2aSdW"
   },
   "source": [
    "We can make a bar plot by country. <font color=red>Change the bar plot to show 20 countries with the most cases</font>."
   ]
  },
  {
   "cell_type": "code",
   "execution_count": null,
   "metadata": {
    "colab": {},
    "colab_type": "code",
    "id": "WQsn0hmGac0q"
   },
   "outputs": [],
   "source": [
    "yesterday = '4/2/20'\n",
    "top_countries = confirmed_yesterday_by_country.sort_values(ascending=False).head(20)\n",
    "top_countries.plot.bar(title=\"Top Countries with Confirmed Cases on \" +  yesterday, figsize=(15,10))"
   ]
  },
  {
   "cell_type": "markdown",
   "metadata": {
    "colab_type": "text",
    "id": "fwKspvKZee8L"
   },
   "source": [
    "<font color=red>Compute the mortality rate by dividing deaths_yesterday_by_country by confirmed_yesterday_by_country and multiplying by 100. Save it in a variable. Then sort and use tail like above and create a bar plot comparing the mortality rates in the top 20 countries. Note that the mortality rate is only for people that get the virus, not for the whole population.</font>"
   ]
  },
  {
   "cell_type": "code",
   "execution_count": null,
   "metadata": {
    "colab": {},
    "colab_type": "code",
    "id": "upmmydFWe_eQ"
   },
   "outputs": [],
   "source": [
    "mortality_rate = deaths_yesterday_by_country / confirmed_yesterday_by_country * 100\n",
    "top_mortality = mortality_rate.sort_values(ascending=False).head(20)\n",
    "top_mortality.plot.bar(title=\"Top Countries' mortality rate as of \" +  yesterday, figsize=(15,10))"
   ]
  },
  {
   "cell_type": "markdown",
   "metadata": {
    "colab_type": "text",
    "id": "ViqNNpv_WP2p"
   },
   "source": [
    "## 4. World Totals\n",
    "\n",
    "Let's add up all the rows of countries for each date to find the world totals. The sum function can add up all the data for a date (column) for all the countries (rows).\n",
    "\n",
    "Let's only keep the rows after row 4 since it doesn't make sense to sum the province, country, lat, and long. (Remember rows start numbering at 0)."
   ]
  },
  {
   "cell_type": "code",
   "execution_count": null,
   "metadata": {
    "colab": {},
    "colab_type": "code",
    "id": "ymNJCCjvWP2q"
   },
   "outputs": [],
   "source": [
    "total_confirmed = covid_confirmed.sum()\n",
    "total_confirmed = total_confirmed[4:]\n",
    "total_confirmed"
   ]
  },
  {
   "cell_type": "markdown",
   "metadata": {
    "colab_type": "text",
    "id": "E2SfINQbkaCA"
   },
   "source": [
    "We can pull out a particular column (date) with the array notation [] (or a . if the column name is just a single word). <font color=red>Change the date below to yesterday's date.</font> "
   ]
  },
  {
   "cell_type": "code",
   "execution_count": null,
   "metadata": {
    "colab": {},
    "colab_type": "code",
    "id": "cPypxciSks3t"
   },
   "outputs": [],
   "source": [
    "total_confirmed[yesterday]"
   ]
  },
  {
   "cell_type": "code",
   "execution_count": null,
   "metadata": {
    "colab": {},
    "colab_type": "code",
    "id": "Uy4SAlm2WP2v"
   },
   "outputs": [],
   "source": [
    "total_deaths = covid_deaths.sum()\n",
    "total_deaths = total_deaths[4:]\n",
    "total_deaths[yesterday]"
   ]
  },
  {
   "cell_type": "code",
   "execution_count": null,
   "metadata": {
    "colab": {},
    "colab_type": "code",
    "id": "AyFgfvZcWP2z"
   },
   "outputs": [],
   "source": [
    "total_recovered = covid_recovered.sum()\n",
    "total_recovered = total_recovered[4:]\n",
    "total_recovered[yesterday]"
   ]
  },
  {
   "cell_type": "markdown",
   "metadata": {
    "colab_type": "text",
    "id": "dNVFEUlDuZw-"
   },
   "source": [
    "Let's calculate the worldwide mortality rate."
   ]
  },
  {
   "cell_type": "code",
   "execution_count": null,
   "metadata": {
    "colab": {},
    "colab_type": "code",
    "id": "BvUKlhd0ufZu"
   },
   "outputs": [],
   "source": [
    "total_mortality_rate = total_deaths/total_confirmed * 100\n",
    "total_mortality_rate[yesterday]"
   ]
  },
  {
   "cell_type": "code",
   "execution_count": null,
   "metadata": {
    "colab": {},
    "colab_type": "code",
    "id": "V3L7IwEZvo8i"
   },
   "outputs": [],
   "source": [
    "total_recovered_rate = total_recovered/total_confirmed * 100\n",
    "total_recovered_rate[yesterday]"
   ]
  },
  {
   "cell_type": "markdown",
   "metadata": {
    "colab_type": "text",
    "id": "ICxHFG8iWP3R"
   },
   "source": [
    "## 5. Line plots over dates \n",
    "\n",
    "Let's make a line plot showing the growth of cases from day to day using the matplotlib (plt) library. <br>\n",
    "<font color=red>Add another plt.plot command for the total_deaths and another for the total_recovered. Add 'Deaths' and 'Recovered' to the legend array too.</font>\n",
    "\n",
    "\n"
   ]
  },
  {
   "cell_type": "code",
   "execution_count": null,
   "metadata": {
    "colab": {},
    "colab_type": "code",
    "id": "px4EsLxQWP3S"
   },
   "outputs": [],
   "source": [
    "plt.rcParams[\"figure.figsize\"] = [15,8]\n",
    "\n",
    "plt.plot(total_confirmed)\n",
    "plt.legend(['Confirmed Cases'])\n",
    "plt.xlabel('Dates')\n",
    "plt.ylabel('Cases')\n",
    "plt.xticks(rotation=45)\n",
    "plt.show()"
   ]
  },
  {
   "cell_type": "markdown",
   "metadata": {
    "colab_type": "text",
    "id": "0r5WZfDzWP4w"
   },
   "source": [
    "\n",
    "\n",
    "## 6. Geo-visualizations with Plotly Express\n"
   ]
  },
  {
   "cell_type": "markdown",
   "metadata": {
    "colab_type": "text",
    "id": "1arEQyrryDkr"
   },
   "source": [
    "The library plotly express (px) has maps like scatter_geo. <font color=red>Change yesterday's date for the latest data. Hover over the countries to see yesterday's data pop up</font>. "
   ]
  },
  {
   "cell_type": "code",
   "execution_count": null,
   "metadata": {
    "colab": {},
    "colab_type": "code",
    "id": "eiF7Q2d3WP45"
   },
   "outputs": [],
   "source": [
    "fig = px.scatter_geo(covid_confirmed,\n",
    "                     lat=\"Lat\", lon=\"Long\", color=yesterday,\n",
    "                     hover_name=\"Country\", size=yesterday,\n",
    "                     size_max=40, \n",
    "                     template='plotly', projection=\"natural earth\",\n",
    "                     title=\"COVID-19 worldwide confirmed cases\")\n",
    "\n",
    "fig.show()"
   ]
  },
  {
   "cell_type": "code",
   "execution_count": null,
   "metadata": {},
   "outputs": [],
   "source": [
    "fig = px.scatter_geo(covid_deaths,\n",
    "                     lat=\"Lat\", lon=\"Long\", color=yesterday,\n",
    "                     hover_name=\"Country\", size=yesterday,\n",
    "                     size_max=40, \n",
    "                     template='plotly', projection=\"natural earth\",\n",
    "                     title=\"COVID-19 worldwide deaths\")\n",
    "\n",
    "fig.show()"
   ]
  },
  {
   "cell_type": "code",
   "execution_count": null,
   "metadata": {},
   "outputs": [],
   "source": []
  }
 ],
 "metadata": {
  "colab": {
   "collapsed_sections": [],
   "name": "Intro to Python Pandas with live COVID19 data.ipynb",
   "provenance": []
  },
  "kernelspec": {
   "display_name": "Python 3",
   "language": "python",
   "name": "python3"
  },
  "language_info": {
   "codemirror_mode": {
    "name": "ipython",
    "version": 3
   },
   "file_extension": ".py",
   "mimetype": "text/x-python",
   "name": "python",
   "nbconvert_exporter": "python",
   "pygments_lexer": "ipython3",
   "version": "3.7.5"
  }
 },
 "nbformat": 4,
 "nbformat_minor": 4
}
